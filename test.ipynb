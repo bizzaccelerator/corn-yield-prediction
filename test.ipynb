{
 "cells": [
  {
   "cell_type": "code",
   "execution_count": 16,
   "metadata": {},
   "outputs": [],
   "source": [
    "import requests"
   ]
  },
  {
   "cell_type": "code",
   "execution_count": null,
   "metadata": {},
   "outputs": [],
   "source": [
    "# Testing the images locally\n",
    "# url = 'http://localhost:9696/predict'\n",
    "\n",
    "# Testing the images pushed into GCR as a service deployed in google cloud run\n",
    "url ='https://corn-predictor-service-c4tqdte5jq-uc.a.run.app/predict'"
   ]
  },
  {
   "cell_type": "code",
   "execution_count": 18,
   "metadata": {},
   "outputs": [],
   "source": [
    "farmer = {\"education\": \"Certificate\",\n",
    "        \"gender\": \"Male\",\n",
    "        \"age_bracket\": \"36-45\",\n",
    "        \"household_size\": \"7\",\n",
    "        \"acreage\": \"1.5\",\n",
    "        \"fertilizer_amount\": 300,\n",
    "        \"laborers\": \"3\",\n",
    "        \"main_credit_source\": \"Credit groups\",\n",
    "        \"farm_records\": \"Yes\",\n",
    "        \"main_advisory_source\": \"Radio\",\n",
    "        \"extension_provider\": \"County Government\",\n",
    "        \"advisory_format\": \"SMS text\",\n",
    "        \"advisory_language\": \"Kiswahili\"}"
   ]
  },
  {
   "cell_type": "code",
   "execution_count": 19,
   "metadata": {},
   "outputs": [
    {
     "data": {
      "text/plain": [
       "<Response [200]>"
      ]
     },
     "execution_count": 19,
     "metadata": {},
     "output_type": "execute_result"
    }
   ],
   "source": [
    "response = requests.post(url, json=farmer)\n",
    "response"
   ]
  },
  {
   "cell_type": "code",
   "execution_count": 20,
   "metadata": {},
   "outputs": [
    {
     "data": {
      "text/plain": [
       "{'model_name': 'corn-yield-predictor',\n",
       " 'model_version': '3',\n",
       " 'yield_prediction': 279.07683333390116}"
      ]
     },
     "execution_count": 20,
     "metadata": {},
     "output_type": "execute_result"
    }
   ],
   "source": [
    "response.json()"
   ]
  }
 ],
 "metadata": {
  "kernelspec": {
   "display_name": "base",
   "language": "python",
   "name": "python3"
  },
  "language_info": {
   "codemirror_mode": {
    "name": "ipython",
    "version": 3
   },
   "file_extension": ".py",
   "mimetype": "text/x-python",
   "name": "python",
   "nbconvert_exporter": "python",
   "pygments_lexer": "ipython3",
   "version": "3.12.7"
  }
 },
 "nbformat": 4,
 "nbformat_minor": 2
}
